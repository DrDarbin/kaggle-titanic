{
  "cells": [
    {
      "metadata": {
        "_uuid": "8f2839f25d086af736a60e9eeb907d3b93b6e0e5",
        "_cell_guid": "b1076dfc-b9ad-4769-8c92-a6c4dae69d19",
        "trusted": true
      },
      "cell_type": "markdown",
      "source": "# CONTENT"
    },
    {
      "metadata": {
        "_cell_guid": "79c7e3d0-c299-4dcb-8224-4455121ee9b0",
        "collapsed": true,
        "_uuid": "d629ff2d2480ee46fbb7e2d37f6b5fab8052498a",
        "trusted": false
      },
      "cell_type": "markdown",
      "source": "1. Introduction and hypotheses\n\n2. Data \n\n     2.1. Data loading and transformation\n    \n     2.2. Data outliers\n    \n     2.3. Missing values\n    \n3. Features engineering\n\n    3.1. Hypotheses\n\n    3.2. Hypotheses testing\n\n4. Modeling\n\n5. Conclusion"
    },
    {
      "metadata": {
        "_uuid": "4fd583f3583c8eb8312c8bbffaf76a36e2e630a4"
      },
      "cell_type": "markdown",
      "source": "***"
    },
    {
      "metadata": {
        "_uuid": "ce0af92f469a2382f9317cf8e2b4e40222ce147e"
      },
      "cell_type": "markdown",
      "source": "# 1. Introduction and hypotheses"
    },
    {
      "metadata": {
        "_uuid": "50a42f45516c31a5ef02427afc8646c9bdb9a8bf"
      },
      "cell_type": "markdown",
      "source": "To begin with we load 2 essential packages for data loading, transformation, grouping, calculations etc.\nPandas package depends on NumPy."
    },
    {
      "metadata": {
        "trusted": true,
        "collapsed": true,
        "_uuid": "afeeb70a91a7c1349f7f15a5040aabd6a06d5a79"
      },
      "cell_type": "code",
      "source": "import numpy as np\nimport pandas as pd",
      "execution_count": null,
      "outputs": []
    },
    {
      "metadata": {
        "_uuid": "97bb071818ba064f1e5de51f22d2e6fea27a560f"
      },
      "cell_type": "markdown",
      "source": "Then we load packages to carry out explorations and actual modeling"
    },
    {
      "metadata": {
        "trusted": true,
        "collapsed": true,
        "_uuid": "38832d19944018cabe2a5fd2a3e56b8d0ac9175d"
      },
      "cell_type": "code",
      "source": "# Logit models (Logistic Regression)\nfrom sklearn.linear_model import LogisticRegression",
      "execution_count": null,
      "outputs": []
    },
    {
      "metadata": {
        "_uuid": "cfa0fa7e00cea762d6cd04d482304523292e3342"
      },
      "cell_type": "markdown",
      "source": "***"
    },
    {
      "metadata": {
        "_uuid": "6d6b4f4d573c4dd386ebbc49457a9e693ad9c92e"
      },
      "cell_type": "markdown",
      "source": "# 2. Data\n## 2.1 Data loading and transformation\n\nLoad the data:"
    },
    {
      "metadata": {
        "trusted": true,
        "collapsed": true,
        "_uuid": "3c5aefd81c129744e5d2f480520b256633e90b57"
      },
      "cell_type": "code",
      "source": "train = pd.read_csv('../input/train.csv')\ntest = pd.read_csv('../input/test.csv')",
      "execution_count": null,
      "outputs": []
    },
    {
      "metadata": {
        "trusted": true,
        "_uuid": "79ed76585d1030f95111c5d78e09d51afd4d32ed",
        "scrolled": true,
        "collapsed": true
      },
      "cell_type": "code",
      "source": "#check the first rows of train data set (to check if the import was Ok)\ntrain.head()",
      "execution_count": null,
      "outputs": []
    },
    {
      "metadata": {
        "trusted": true,
        "_uuid": "cb1b1b8ecc807c8a6e426bcc17106c681c640993",
        "collapsed": true
      },
      "cell_type": "code",
      "source": "#check the first rows of test data set (to check if the import was Ok)\ntest.head()",
      "execution_count": null,
      "outputs": []
    },
    {
      "metadata": {
        "trusted": true,
        "_uuid": "88659212f0fb13d2842762afd69d34c9d34ef221",
        "collapsed": true
      },
      "cell_type": "code",
      "source": "#train.loc[train['Sex'] == 'male'][:3]\n#train_embarked = train['Embarked']\n#train.loc[train['Embarked'].isnull()]\n#train.loc[train['Cabin'].isnull()]\n\n#if train['Embarked'].",
      "execution_count": null,
      "outputs": []
    },
    {
      "metadata": {
        "_uuid": "40f5c60fb2950a4b9ae4f41da6ce6a6b4eb77333"
      },
      "cell_type": "markdown",
      "source": "Reclassify all the literal data (except Name; NaN - is not literal, it is Null-value) to numeric to use it in regression models:"
    },
    {
      "metadata": {
        "trusted": true,
        "collapsed": true,
        "_uuid": "7fef40822a01eb023897e1cd5633a7e3f44258b8"
      },
      "cell_type": "code",
      "source": "# Train data set\ntrain.loc[train['Sex'] == 'male', 'Sex'] = 1\ntrain.loc[train['Sex'] == 'female', 'Sex'] = 0\ntrain.loc[train['Embarked'] == 'S', 'Embarked'] = 0\ntrain.loc[train['Embarked'] == 'C', 'Embarked'] = 0\ntrain.loc[train['Embarked'] == 'Q', 'Embarked'] = 0\n\n# Test data set\ntest.loc[test['Sex'] == 'male', 'Sex'] = 1\ntest.loc[test['Sex'] == 'female', 'Sex'] = 0\ntest.loc[test['Embarked'] == 'S', 'Embarked'] = 0\ntest.loc[test['Embarked'] == 'C', 'Embarked'] = 0\ntest.loc[test['Embarked'] == 'Q', 'Embarked'] = 0",
      "execution_count": null,
      "outputs": []
    },
    {
      "metadata": {
        "_uuid": "8f221b96969aa90b9c4b418aff0e7140131bb5ad"
      },
      "cell_type": "markdown",
      "source": "## 2.2. Data outliers"
    },
    {
      "metadata": {
        "_uuid": "40fa72512a8af0b2d88618959f557c1a42156a17"
      },
      "cell_type": "markdown",
      "source": "## 2.3. Missing values"
    },
    {
      "metadata": {
        "_uuid": "1c9aec074b3f40c6e0bfa4d4173f6777f61cb27a"
      },
      "cell_type": "markdown",
      "source": "### Exploring empty data (missing values or NaN)\n** - Age**\n\nCheck the passengers with the empty age."
    },
    {
      "metadata": {
        "trusted": true,
        "_uuid": "c4840be301dc16321a32ce017b867801fd6e72c5",
        "collapsed": true
      },
      "cell_type": "code",
      "source": "#age_nan = train.loc[train.Age.isnull()]\n#age_nan[:10]",
      "execution_count": null,
      "outputs": []
    },
    {
      "metadata": {
        "_uuid": "ec49b1dc6b4622092bd8f3694b2901a3bf50e0bf"
      },
      "cell_type": "markdown",
      "source": "**Cabins**\n\nAnalysis of empty cabins vs passenger class"
    },
    {
      "metadata": {
        "trusted": true,
        "collapsed": true,
        "_uuid": "0f2929ef3d69313c593cd25f8524c172d2d45ee1"
      },
      "cell_type": "code",
      "source": "#cabin_1 = train.loc[train.Cabin.notnull()]\n#cabin_1.loc[:,['Pclass', 'Cabin']]",
      "execution_count": null,
      "outputs": []
    },
    {
      "metadata": {
        "_uuid": "b9015b8627d6244e4ea4061b59eca5ced6a484d9"
      },
      "cell_type": "markdown",
      "source": "Fill the missing values with our assumptions"
    },
    {
      "metadata": {
        "trusted": true,
        "collapsed": true,
        "_uuid": "6d2c53ce54ff06445eda285aa23396774a871f98"
      },
      "cell_type": "code",
      "source": "# Train data set\ntrain['Age'] = train['Age'].fillna(train['Age'].median())\n#train['Embarked'] = train['Embarked'].fillna(2)\ntrain['Embarked'] = train['Embarked'].fillna(1)\ntrain['Fare'] = train['Fare'].fillna(train['Fare'].mean())\n\n# Test data set\ntest['Age'] = test['Age'].fillna(train['Age'].median())\n#test['Embarked'] = test['Embarked'].fillna(2)\ntest['Embarked'] = test['Embarked'].fillna(1)\ntest['Fare'] = test['Fare'].fillna(test['Fare'].mean())",
      "execution_count": null,
      "outputs": []
    },
    {
      "metadata": {
        "_uuid": "3f8a1a5194ba057ae7bfcba1534a2df4fb754197"
      },
      "cell_type": "markdown",
      "source": "***"
    },
    {
      "metadata": {
        "_uuid": "bb96c927c2d58da16cd39f825037f89e9d328fc7"
      },
      "cell_type": "markdown",
      "source": "# 3. Features engineering"
    },
    {
      "metadata": {
        "_uuid": "7c6d5fa316d8b4023ccb6a4d936073bfc1739833"
      },
      "cell_type": "markdown",
      "source": "## 3.1. Hypotheses\n\n- Possible predictors: \n    * Pclass\n    * Sex\n    * Age\n    * SibSp\n    * Parch\n    * Fare\n    * Embarked\n- Pclass and Fare probably correlates with each other (so we shouldn't use these variables together or we will need to substitute these two variables with one derivative variable)\n- If a passenger not Embarked (NaN for Embarked) than he could survive\n- Since the catastrophe occured in the midnight than the closer Cabin to boats / exits the higher chance to survive\n"
    },
    {
      "metadata": {
        "_uuid": "549ca0e19444a5b45c6a09384e4c4e2c8eca863c"
      },
      "cell_type": "markdown",
      "source": "## 3.2. Hypotheses testing"
    },
    {
      "metadata": {
        "_uuid": "adcbd86dfabe1960866c44214c2d31e2f725c921"
      },
      "cell_type": "markdown",
      "source": "***"
    },
    {
      "metadata": {
        "_uuid": "81745dfdcaf20f58c68737a64006d0b24a768695"
      },
      "cell_type": "markdown",
      "source": "# 4. Modeling"
    },
    {
      "metadata": {
        "trusted": true,
        "collapsed": true,
        "_uuid": "d87c99b87487c0b48f76d1131df603aae662b8d5"
      },
      "cell_type": "code",
      "source": "predictors = [\"Sex\", \"Age\", \"SibSp\", \"Parch\", \"Fare\", \"Embarked\"]",
      "execution_count": null,
      "outputs": []
    },
    {
      "metadata": {
        "trusted": true,
        "_uuid": "6419c03d8f7b491a5374dc5b2de394ff01eacc44",
        "collapsed": true
      },
      "cell_type": "code",
      "source": "lr = LogisticRegression(random_state=1)\nlr.fit(train[predictors], train[\"Survived\"])\npredictions = lr.predict(test[predictors])\n#accuracy_train = round(lr.score(train[predictors], train[\"Survived\"]) * 100, 2)\n#accuracy_test = round(lr.score(test[predictors], test[\"Survived\"]) * 100, 2)\n#print(accuracy_train)\n#print(accuracy_test)",
      "execution_count": null,
      "outputs": []
    },
    {
      "metadata": {
        "_uuid": "2e9a77b923b0841c809bfee32f1d6b679e430efe"
      },
      "cell_type": "markdown",
      "source": "***"
    },
    {
      "metadata": {
        "_uuid": "ed4f314f278490622612f1e01428d4d6622f6539"
      },
      "cell_type": "markdown",
      "source": "# 5. Conclusion"
    },
    {
      "metadata": {
        "_uuid": "065ffffd593d0f884ed065e641c56477f006471f"
      },
      "cell_type": "markdown",
      "source": "## Submission"
    },
    {
      "metadata": {
        "_uuid": "1008fe3ad091e1ebdd058adb160b986a608a21c7"
      },
      "cell_type": "markdown",
      "source": "We need to put our csv-file with the results into Kaggle /input directory like so:"
    },
    {
      "metadata": {
        "trusted": true,
        "collapsed": true,
        "_uuid": "7151936789a2541afc044411acaa7aa54e1fe87c"
      },
      "cell_type": "code",
      "source": "submission = pd.DataFrame({\n        \"PassengerId\": test[\"PassengerId\"],\n        \"Survived\": predictions\n    })\nsubmission.to_csv(\"titanic_result_1.csv\", index=False)",
      "execution_count": null,
      "outputs": []
    },
    {
      "metadata": {
        "_uuid": "b432306265f3ccea1d7b8ddcba5a7765d3e52de0"
      },
      "cell_type": "markdown",
      "source": ""
    }
  ],
  "metadata": {
    "kernelspec": {
      "display_name": "Python 3",
      "language": "python",
      "name": "python3"
    },
    "language_info": {
      "name": "python",
      "version": "3.6.6",
      "mimetype": "text/x-python",
      "codemirror_mode": {
        "name": "ipython",
        "version": 3
      },
      "pygments_lexer": "ipython3",
      "nbconvert_exporter": "python",
      "file_extension": ".py"
    }
  },
  "nbformat": 4,
  "nbformat_minor": 1
}