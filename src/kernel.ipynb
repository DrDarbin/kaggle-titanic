{
 "cells": [
  {
   "cell_type": "markdown",
   "metadata": {
    "_cell_guid": "b1076dfc-b9ad-4769-8c92-a6c4dae69d19",
    "_uuid": "8f2839f25d086af736a60e9eeb907d3b93b6e0e5"
   },
   "source": [
    "# CONTENT"
   ]
  },
  {
   "cell_type": "markdown",
   "metadata": {
    "_cell_guid": "79c7e3d0-c299-4dcb-8224-4455121ee9b0",
    "_uuid": "d629ff2d2480ee46fbb7e2d37f6b5fab8052498a",
    "collapsed": true
   },
   "source": [
    "1. Introduction and hypotheses\n",
    "\n",
    "2. Data \n",
    "\n",
    "     2.1. Data loading and transformation\n",
    "    \n",
    "     2.2. Data outliers\n",
    "    \n",
    "     2.3. Missing values\n",
    "    \n",
    "3. Features engineering\n",
    "\n",
    "    3.1. Hypotheses\n",
    "\n",
    "    3.2. Hypotheses testing\n",
    "\n",
    "4. Modeling\n",
    "\n",
    "5. Conclusion"
   ]
  },
  {
   "cell_type": "markdown",
   "metadata": {
    "_uuid": "4fd583f3583c8eb8312c8bbffaf76a36e2e630a4"
   },
   "source": [
    "***"
   ]
  },
  {
   "cell_type": "markdown",
   "metadata": {
    "_uuid": "ce0af92f469a2382f9317cf8e2b4e40222ce147e"
   },
   "source": [
    "# 1. Introduction and hypotheses"
   ]
  },
  {
   "cell_type": "markdown",
   "metadata": {
    "_uuid": "50a42f45516c31a5ef02427afc8646c9bdb9a8bf"
   },
   "source": [
    "To begin with we load 2 essential packages for data loading, transformation, grouping, calculations etc.\n",
    "Pandas package depends on NumPy."
   ]
  },
  {
   "cell_type": "code",
   "execution_count": 1,
   "metadata": {
    "_uuid": "afeeb70a91a7c1349f7f15a5040aabd6a06d5a79"
   },
   "outputs": [],
   "source": [
    "import numpy as np\n",
    "import pandas as pd"
   ]
  },
  {
   "cell_type": "markdown",
   "metadata": {
    "_uuid": "97bb071818ba064f1e5de51f22d2e6fea27a560f"
   },
   "source": [
    "Then we load packages to carry out explorations and actual modeling"
   ]
  },
  {
   "cell_type": "code",
   "execution_count": 2,
   "metadata": {
    "_uuid": "38832d19944018cabe2a5fd2a3e56b8d0ac9175d"
   },
   "outputs": [],
   "source": [
    "# Logit models (Logistic Regression)\n",
    "from sklearn.linear_model import LogisticRegression"
   ]
  },
  {
   "cell_type": "markdown",
   "metadata": {
    "_uuid": "cfa0fa7e00cea762d6cd04d482304523292e3342"
   },
   "source": [
    "***"
   ]
  },
  {
   "cell_type": "markdown",
   "metadata": {
    "_uuid": "6d6b4f4d573c4dd386ebbc49457a9e693ad9c92e"
   },
   "source": [
    "# 2. Data\n",
    "## 2.1 Data loading and transformation\n",
    "\n",
    "Load the data:"
   ]
  },
  {
   "cell_type": "code",
   "execution_count": 3,
   "metadata": {
    "_uuid": "3c5aefd81c129744e5d2f480520b256633e90b57"
   },
   "outputs": [],
   "source": [
    "train = pd.read_csv('../input/train.csv')\n",
    "test = pd.read_csv('../input/test.csv')"
   ]
  },
  {
   "cell_type": "code",
   "execution_count": 4,
   "metadata": {
    "_uuid": "79ed76585d1030f95111c5d78e09d51afd4d32ed",
    "scrolled": true
   },
   "outputs": [
    {
     "data": {
      "text/html": [
       "<div>\n",
       "<style scoped>\n",
       "    .dataframe tbody tr th:only-of-type {\n",
       "        vertical-align: middle;\n",
       "    }\n",
       "\n",
       "    .dataframe tbody tr th {\n",
       "        vertical-align: top;\n",
       "    }\n",
       "\n",
       "    .dataframe thead th {\n",
       "        text-align: right;\n",
       "    }\n",
       "</style>\n",
       "<table border=\"1\" class=\"dataframe\">\n",
       "  <thead>\n",
       "    <tr style=\"text-align: right;\">\n",
       "      <th></th>\n",
       "      <th>PassengerId</th>\n",
       "      <th>Survived</th>\n",
       "      <th>Pclass</th>\n",
       "      <th>Name</th>\n",
       "      <th>Sex</th>\n",
       "      <th>Age</th>\n",
       "      <th>SibSp</th>\n",
       "      <th>Parch</th>\n",
       "      <th>Ticket</th>\n",
       "      <th>Fare</th>\n",
       "      <th>Cabin</th>\n",
       "      <th>Embarked</th>\n",
       "    </tr>\n",
       "  </thead>\n",
       "  <tbody>\n",
       "    <tr>\n",
       "      <th>0</th>\n",
       "      <td>1</td>\n",
       "      <td>0</td>\n",
       "      <td>3</td>\n",
       "      <td>Braund, Mr. Owen Harris</td>\n",
       "      <td>male</td>\n",
       "      <td>22.0</td>\n",
       "      <td>1</td>\n",
       "      <td>0</td>\n",
       "      <td>A/5 21171</td>\n",
       "      <td>7.2500</td>\n",
       "      <td>NaN</td>\n",
       "      <td>S</td>\n",
       "    </tr>\n",
       "    <tr>\n",
       "      <th>1</th>\n",
       "      <td>2</td>\n",
       "      <td>1</td>\n",
       "      <td>1</td>\n",
       "      <td>Cumings, Mrs. John Bradley (Florence Briggs Th...</td>\n",
       "      <td>female</td>\n",
       "      <td>38.0</td>\n",
       "      <td>1</td>\n",
       "      <td>0</td>\n",
       "      <td>PC 17599</td>\n",
       "      <td>71.2833</td>\n",
       "      <td>C85</td>\n",
       "      <td>C</td>\n",
       "    </tr>\n",
       "    <tr>\n",
       "      <th>2</th>\n",
       "      <td>3</td>\n",
       "      <td>1</td>\n",
       "      <td>3</td>\n",
       "      <td>Heikkinen, Miss. Laina</td>\n",
       "      <td>female</td>\n",
       "      <td>26.0</td>\n",
       "      <td>0</td>\n",
       "      <td>0</td>\n",
       "      <td>STON/O2. 3101282</td>\n",
       "      <td>7.9250</td>\n",
       "      <td>NaN</td>\n",
       "      <td>S</td>\n",
       "    </tr>\n",
       "    <tr>\n",
       "      <th>3</th>\n",
       "      <td>4</td>\n",
       "      <td>1</td>\n",
       "      <td>1</td>\n",
       "      <td>Futrelle, Mrs. Jacques Heath (Lily May Peel)</td>\n",
       "      <td>female</td>\n",
       "      <td>35.0</td>\n",
       "      <td>1</td>\n",
       "      <td>0</td>\n",
       "      <td>113803</td>\n",
       "      <td>53.1000</td>\n",
       "      <td>C123</td>\n",
       "      <td>S</td>\n",
       "    </tr>\n",
       "    <tr>\n",
       "      <th>4</th>\n",
       "      <td>5</td>\n",
       "      <td>0</td>\n",
       "      <td>3</td>\n",
       "      <td>Allen, Mr. William Henry</td>\n",
       "      <td>male</td>\n",
       "      <td>35.0</td>\n",
       "      <td>0</td>\n",
       "      <td>0</td>\n",
       "      <td>373450</td>\n",
       "      <td>8.0500</td>\n",
       "      <td>NaN</td>\n",
       "      <td>S</td>\n",
       "    </tr>\n",
       "  </tbody>\n",
       "</table>\n",
       "</div>"
      ],
      "text/plain": [
       "   PassengerId  Survived  Pclass  \\\n",
       "0            1         0       3   \n",
       "1            2         1       1   \n",
       "2            3         1       3   \n",
       "3            4         1       1   \n",
       "4            5         0       3   \n",
       "\n",
       "                                                Name     Sex   Age  SibSp  \\\n",
       "0                            Braund, Mr. Owen Harris    male  22.0      1   \n",
       "1  Cumings, Mrs. John Bradley (Florence Briggs Th...  female  38.0      1   \n",
       "2                             Heikkinen, Miss. Laina  female  26.0      0   \n",
       "3       Futrelle, Mrs. Jacques Heath (Lily May Peel)  female  35.0      1   \n",
       "4                           Allen, Mr. William Henry    male  35.0      0   \n",
       "\n",
       "   Parch            Ticket     Fare Cabin Embarked  \n",
       "0      0         A/5 21171   7.2500   NaN        S  \n",
       "1      0          PC 17599  71.2833   C85        C  \n",
       "2      0  STON/O2. 3101282   7.9250   NaN        S  \n",
       "3      0            113803  53.1000  C123        S  \n",
       "4      0            373450   8.0500   NaN        S  "
      ]
     },
     "execution_count": 4,
     "metadata": {},
     "output_type": "execute_result"
    }
   ],
   "source": [
    "#tests2\n",
    "#check the first rows of train data set (to check if the import was Ok)\n",
    "train.head()"
   ]
  },
  {
   "cell_type": "code",
   "execution_count": 5,
   "metadata": {
    "_uuid": "cb1b1b8ecc807c8a6e426bcc17106c681c640993"
   },
   "outputs": [
    {
     "data": {
      "text/html": [
       "<div>\n",
       "<style scoped>\n",
       "    .dataframe tbody tr th:only-of-type {\n",
       "        vertical-align: middle;\n",
       "    }\n",
       "\n",
       "    .dataframe tbody tr th {\n",
       "        vertical-align: top;\n",
       "    }\n",
       "\n",
       "    .dataframe thead th {\n",
       "        text-align: right;\n",
       "    }\n",
       "</style>\n",
       "<table border=\"1\" class=\"dataframe\">\n",
       "  <thead>\n",
       "    <tr style=\"text-align: right;\">\n",
       "      <th></th>\n",
       "      <th>PassengerId</th>\n",
       "      <th>Pclass</th>\n",
       "      <th>Name</th>\n",
       "      <th>Sex</th>\n",
       "      <th>Age</th>\n",
       "      <th>SibSp</th>\n",
       "      <th>Parch</th>\n",
       "      <th>Ticket</th>\n",
       "      <th>Fare</th>\n",
       "      <th>Cabin</th>\n",
       "      <th>Embarked</th>\n",
       "    </tr>\n",
       "  </thead>\n",
       "  <tbody>\n",
       "    <tr>\n",
       "      <th>0</th>\n",
       "      <td>892</td>\n",
       "      <td>3</td>\n",
       "      <td>Kelly, Mr. James</td>\n",
       "      <td>male</td>\n",
       "      <td>34.5</td>\n",
       "      <td>0</td>\n",
       "      <td>0</td>\n",
       "      <td>330911</td>\n",
       "      <td>7.8292</td>\n",
       "      <td>NaN</td>\n",
       "      <td>Q</td>\n",
       "    </tr>\n",
       "    <tr>\n",
       "      <th>1</th>\n",
       "      <td>893</td>\n",
       "      <td>3</td>\n",
       "      <td>Wilkes, Mrs. James (Ellen Needs)</td>\n",
       "      <td>female</td>\n",
       "      <td>47.0</td>\n",
       "      <td>1</td>\n",
       "      <td>0</td>\n",
       "      <td>363272</td>\n",
       "      <td>7.0000</td>\n",
       "      <td>NaN</td>\n",
       "      <td>S</td>\n",
       "    </tr>\n",
       "    <tr>\n",
       "      <th>2</th>\n",
       "      <td>894</td>\n",
       "      <td>2</td>\n",
       "      <td>Myles, Mr. Thomas Francis</td>\n",
       "      <td>male</td>\n",
       "      <td>62.0</td>\n",
       "      <td>0</td>\n",
       "      <td>0</td>\n",
       "      <td>240276</td>\n",
       "      <td>9.6875</td>\n",
       "      <td>NaN</td>\n",
       "      <td>Q</td>\n",
       "    </tr>\n",
       "    <tr>\n",
       "      <th>3</th>\n",
       "      <td>895</td>\n",
       "      <td>3</td>\n",
       "      <td>Wirz, Mr. Albert</td>\n",
       "      <td>male</td>\n",
       "      <td>27.0</td>\n",
       "      <td>0</td>\n",
       "      <td>0</td>\n",
       "      <td>315154</td>\n",
       "      <td>8.6625</td>\n",
       "      <td>NaN</td>\n",
       "      <td>S</td>\n",
       "    </tr>\n",
       "    <tr>\n",
       "      <th>4</th>\n",
       "      <td>896</td>\n",
       "      <td>3</td>\n",
       "      <td>Hirvonen, Mrs. Alexander (Helga E Lindqvist)</td>\n",
       "      <td>female</td>\n",
       "      <td>22.0</td>\n",
       "      <td>1</td>\n",
       "      <td>1</td>\n",
       "      <td>3101298</td>\n",
       "      <td>12.2875</td>\n",
       "      <td>NaN</td>\n",
       "      <td>S</td>\n",
       "    </tr>\n",
       "  </tbody>\n",
       "</table>\n",
       "</div>"
      ],
      "text/plain": [
       "   PassengerId  Pclass                                          Name     Sex  \\\n",
       "0          892       3                              Kelly, Mr. James    male   \n",
       "1          893       3              Wilkes, Mrs. James (Ellen Needs)  female   \n",
       "2          894       2                     Myles, Mr. Thomas Francis    male   \n",
       "3          895       3                              Wirz, Mr. Albert    male   \n",
       "4          896       3  Hirvonen, Mrs. Alexander (Helga E Lindqvist)  female   \n",
       "\n",
       "    Age  SibSp  Parch   Ticket     Fare Cabin Embarked  \n",
       "0  34.5      0      0   330911   7.8292   NaN        Q  \n",
       "1  47.0      1      0   363272   7.0000   NaN        S  \n",
       "2  62.0      0      0   240276   9.6875   NaN        Q  \n",
       "3  27.0      0      0   315154   8.6625   NaN        S  \n",
       "4  22.0      1      1  3101298  12.2875   NaN        S  "
      ]
     },
     "execution_count": 5,
     "metadata": {},
     "output_type": "execute_result"
    }
   ],
   "source": [
    "#check the first rows of test data set (to check if the import was Ok)\n",
    "test.head()"
   ]
  },
  {
   "cell_type": "code",
   "execution_count": 6,
   "metadata": {
    "_uuid": "88659212f0fb13d2842762afd69d34c9d34ef221"
   },
   "outputs": [],
   "source": [
    "#train.loc[train['Sex'] == 'male'][:3]\n",
    "#train_embarked = train['Embarked']\n",
    "#train.loc[train['Embarked'].isnull()]\n",
    "#train.loc[train['Cabin'].isnull()]\n",
    "\n",
    "#if train['Embarked']."
   ]
  },
  {
   "cell_type": "markdown",
   "metadata": {
    "_uuid": "40f5c60fb2950a4b9ae4f41da6ce6a6b4eb77333"
   },
   "source": [
    "Reclassify all the literal data (except Name; NaN - is not literal, it is Null-value) to numeric to use it in regression models:"
   ]
  },
  {
   "cell_type": "code",
   "execution_count": 7,
   "metadata": {
    "_uuid": "7fef40822a01eb023897e1cd5633a7e3f44258b8"
   },
   "outputs": [],
   "source": [
    "# Train data set\n",
    "train.loc[train['Sex'] == 'male', 'Sex'] = 1\n",
    "train.loc[train['Sex'] == 'female', 'Sex'] = 0\n",
    "train.loc[train['Embarked'] == 'S', 'Embarked'] = 0\n",
    "train.loc[train['Embarked'] == 'C', 'Embarked'] = 0\n",
    "train.loc[train['Embarked'] == 'Q', 'Embarked'] = 0\n",
    "\n",
    "# Test data set\n",
    "test.loc[test['Sex'] == 'male', 'Sex'] = 1\n",
    "test.loc[test['Sex'] == 'female', 'Sex'] = 0\n",
    "test.loc[test['Embarked'] == 'S', 'Embarked'] = 0\n",
    "test.loc[test['Embarked'] == 'C', 'Embarked'] = 0\n",
    "test.loc[test['Embarked'] == 'Q', 'Embarked'] = 0"
   ]
  },
  {
   "cell_type": "markdown",
   "metadata": {
    "_uuid": "8f221b96969aa90b9c4b418aff0e7140131bb5ad"
   },
   "source": [
    "## 2.2. Data outliers"
   ]
  },
  {
   "cell_type": "markdown",
   "metadata": {
    "_uuid": "40fa72512a8af0b2d88618959f557c1a42156a17"
   },
   "source": [
    "## 2.3. Missing values"
   ]
  },
  {
   "cell_type": "markdown",
   "metadata": {
    "_uuid": "1c9aec074b3f40c6e0bfa4d4173f6777f61cb27a"
   },
   "source": [
    "### Exploring empty data (missing values or NaN)\n",
    "** - Age**\n",
    "\n",
    "Check the passengers with the empty age."
   ]
  },
  {
   "cell_type": "code",
   "execution_count": 8,
   "metadata": {
    "_uuid": "c4840be301dc16321a32ce017b867801fd6e72c5"
   },
   "outputs": [],
   "source": [
    "#age_nan = train.loc[train.Age.isnull()]\n",
    "#age_nan[:10]"
   ]
  },
  {
   "cell_type": "markdown",
   "metadata": {
    "_uuid": "ec49b1dc6b4622092bd8f3694b2901a3bf50e0bf"
   },
   "source": [
    "**Cabins**\n",
    "\n",
    "Analysis of empty cabins vs passenger class"
   ]
  },
  {
   "cell_type": "code",
   "execution_count": 9,
   "metadata": {
    "_uuid": "0f2929ef3d69313c593cd25f8524c172d2d45ee1"
   },
   "outputs": [],
   "source": [
    "#cabin_1 = train.loc[train.Cabin.notnull()]\n",
    "#cabin_1.loc[:,['Pclass', 'Cabin']]"
   ]
  },
  {
   "cell_type": "markdown",
   "metadata": {
    "_uuid": "b9015b8627d6244e4ea4061b59eca5ced6a484d9"
   },
   "source": [
    "Fill the missing values with our assumptions"
   ]
  },
  {
   "cell_type": "code",
   "execution_count": 10,
   "metadata": {
    "_uuid": "6d2c53ce54ff06445eda285aa23396774a871f98"
   },
   "outputs": [],
   "source": [
    "# Train data set\n",
    "train['Age'] = train['Age'].fillna(train['Age'].median())\n",
    "#train['Embarked'] = train['Embarked'].fillna(2)\n",
    "train['Embarked'] = train['Embarked'].fillna(1)\n",
    "train['Fare'] = train['Fare'].fillna(train['Fare'].mean())\n",
    "\n",
    "# Test data set\n",
    "test['Age'] = test['Age'].fillna(train['Age'].median())\n",
    "#test['Embarked'] = test['Embarked'].fillna(2)\n",
    "test['Embarked'] = test['Embarked'].fillna(1)\n",
    "test['Fare'] = test['Fare'].fillna(test['Fare'].mean())"
   ]
  },
  {
   "cell_type": "markdown",
   "metadata": {
    "_uuid": "3f8a1a5194ba057ae7bfcba1534a2df4fb754197"
   },
   "source": [
    "***"
   ]
  },
  {
   "cell_type": "markdown",
   "metadata": {
    "_uuid": "bb96c927c2d58da16cd39f825037f89e9d328fc7"
   },
   "source": [
    "# 3. Features engineering"
   ]
  },
  {
   "cell_type": "markdown",
   "metadata": {
    "_uuid": "7c6d5fa316d8b4023ccb6a4d936073bfc1739833"
   },
   "source": [
    "## 3.1. Hypotheses\n",
    "\n",
    "- Possible predictors: \n",
    "    * Pclass\n",
    "    * Sex\n",
    "    * Age\n",
    "    * SibSp\n",
    "    * Parch\n",
    "    * Fare\n",
    "    * Embarked\n",
    "- Pclass and Fare probably correlates with each other (so we shouldn't use these variables together or we will need to substitute these two variables with one derivative variable)\n",
    "- If a passenger not Embarked (NaN for Embarked) than he could survive\n",
    "- Since the catastrophe occured in the midnight than the closer Cabin to boats / exits the higher chance to survive\n"
   ]
  },
  {
   "cell_type": "markdown",
   "metadata": {
    "_uuid": "549ca0e19444a5b45c6a09384e4c4e2c8eca863c"
   },
   "source": [
    "## 3.2. Hypotheses testing"
   ]
  },
  {
   "cell_type": "markdown",
   "metadata": {
    "_uuid": "adcbd86dfabe1960866c44214c2d31e2f725c921"
   },
   "source": [
    "***"
   ]
  },
  {
   "cell_type": "markdown",
   "metadata": {
    "_uuid": "81745dfdcaf20f58c68737a64006d0b24a768695"
   },
   "source": [
    "# 4. Modeling"
   ]
  },
  {
   "cell_type": "code",
   "execution_count": 11,
   "metadata": {
    "_uuid": "d87c99b87487c0b48f76d1131df603aae662b8d5"
   },
   "outputs": [],
   "source": [
    "predictors = [\"Sex\", \"Age\", \"SibSp\", \"Parch\", \"Fare\", \"Embarked\"]"
   ]
  },
  {
   "cell_type": "code",
   "execution_count": 12,
   "metadata": {
    "_uuid": "6419c03d8f7b491a5374dc5b2de394ff01eacc44"
   },
   "outputs": [],
   "source": [
    "lr = LogisticRegression(random_state=1)\n",
    "lr.fit(train[predictors], train[\"Survived\"])\n",
    "predictions = lr.predict(test[predictors])\n",
    "#accuracy_train = round(lr.score(train[predictors], train[\"Survived\"]) * 100, 2)\n",
    "#accuracy_test = round(lr.score(test[predictors], test[\"Survived\"]) * 100, 2)\n",
    "#print(accuracy_train)\n",
    "#print(accuracy_test)"
   ]
  },
  {
   "cell_type": "markdown",
   "metadata": {
    "_uuid": "2e9a77b923b0841c809bfee32f1d6b679e430efe"
   },
   "source": [
    "***"
   ]
  },
  {
   "cell_type": "markdown",
   "metadata": {
    "_uuid": "ed4f314f278490622612f1e01428d4d6622f6539"
   },
   "source": [
    "# 5. Conclusion"
   ]
  },
  {
   "cell_type": "markdown",
   "metadata": {
    "_uuid": "065ffffd593d0f884ed065e641c56477f006471f"
   },
   "source": [
    "## Submission"
   ]
  },
  {
   "cell_type": "markdown",
   "metadata": {
    "_uuid": "1008fe3ad091e1ebdd058adb160b986a608a21c7"
   },
   "source": [
    "We need to put our csv-file with the results into Kaggle /input directory like so:"
   ]
  },
  {
   "cell_type": "code",
   "execution_count": 13,
   "metadata": {
    "_uuid": "7151936789a2541afc044411acaa7aa54e1fe87c"
   },
   "outputs": [],
   "source": [
    "submission = pd.DataFrame({\n",
    "        \"PassengerId\": test[\"PassengerId\"],\n",
    "        \"Survived\": predictions\n",
    "    })\n",
    "submission.to_csv(\"submit.csv\", index=False)"
   ]
  },
  {
   "cell_type": "markdown",
   "metadata": {
    "_uuid": "b432306265f3ccea1d7b8ddcba5a7765d3e52de0"
   },
   "source": []
  }
 ],
 "metadata": {
  "kernelspec": {
   "display_name": "Python 3",
   "language": "python",
   "name": "python3"
  },
  "language_info": {
   "codemirror_mode": {
    "name": "ipython",
    "version": 3
   },
   "file_extension": ".py",
   "mimetype": "text/x-python",
   "name": "python",
   "nbconvert_exporter": "python",
   "pygments_lexer": "ipython3",
   "version": "3.5.5"
  }
 },
 "nbformat": 4,
 "nbformat_minor": 1
}
